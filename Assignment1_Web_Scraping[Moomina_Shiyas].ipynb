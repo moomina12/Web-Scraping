{
  "nbformat": 4,
  "nbformat_minor": 0,
  "metadata": {
    "colab": {
      "provenance": []
    },
    "kernelspec": {
      "name": "python3",
      "display_name": "Python 3"
    },
    "language_info": {
      "name": "python"
    }
  },
  "cells": [
    {
      "cell_type": "code",
      "execution_count": null,
      "metadata": {
        "id": "tfexEAlPC6sc"
      },
      "outputs": [],
      "source": [
        "#Importing Libraries\n",
        "\n",
        "import pandas as pd\n",
        "import requests\n",
        "from bs4 import BeautifulSoup "
      ]
    },
    {
      "cell_type": "code",
      "source": [
        "url = f'http://quotes.toscrape.com/page/{i}/'  #fetching html page and formatting the pagenumbers.\n",
        "source = requests.get(url)                     # Used Requests module from python to get data from given url and saved under the variable \"source\"\n",
        "source = source.content                        #Getting the content of the website.\n",
        "soup = BeautifulSoup(source,'html.parser')     #Used BeautifulSoup from python to connect with webpage.\n",
        "  "
      ],
      "metadata": {
        "id": "zUnaAOc7DLU6"
      },
      "execution_count": null,
      "outputs": []
    },
    {
      "cell_type": "code",
      "source": [
        "webpage = soup.find('div') #using \"soup\" class and \"find\" function to fetch all details related to 'div'"
      ],
      "metadata": {
        "id": "07s7PA7DtyNW"
      },
      "execution_count": null,
      "outputs": []
    },
    {
      "cell_type": "code",
      "source": [
        "contents = webpage.find_all('div', class_ = 'quote') #Using find_all function to get all the contents under div where class is 'quote'."
      ],
      "metadata": {
        "id": "U7OevSfjuTxJ"
      },
      "execution_count": null,
      "outputs": []
    },
    {
      "cell_type": "code",
      "source": [
        "Content = [] #Empty list to store the output\n",
        "\n",
        "for i in range(1,6):                            #looping from page 1 to page 6 to get contents\n",
        "  url = f'http://quotes.toscrape.com/page/{i}/' #formatted the page number and fetching the data.\n",
        "  source = requests.get(url)                    #Used request class from python to get the data from website.\n",
        "  source = source.content                       #To fetch the content of the webpage.\n",
        "  soup = BeautifulSoup(source,'html.parser')    #Used BeautifulSoup from python to connect with webpage.\n",
        "  webpage = soup.find('div')                    #Using class soup and find function getting all contents from the webpage \"class- div\".\n",
        "  contents = webpage.find_all('div', class_ = 'quote') #\"find_all\" function used to fetch data relating under div where class is 'quote'.\n",
        "  for content in contents:                     #looping inside each page to fetch the contents\n",
        "    author = content.find('small',class_ ='author').text  #Used \"find\" function to fetch data related to 'small' where class is 'author'and it will fetch author details\n",
        "    quotes = content.find('span').text          #Used \"find\" function to fetch data related to \"span\" to get the exact quotes used \"text\" function.\n",
        "    tag = content.find('meta',class_='keywords')# Used \"find\" function to fetch data related to 'meta' where class is \"Keywords\"\n",
        "    quote_tag = tag.attrs['content']            # create another variable \"quote_tag\" to store the mutltiple tags under the class \"keywords\"\n",
        "    Content.append([quotes,author,quote_tag])   #Finally adding the all the derived contents like quotes, author, and tags in the empty list created."
      ],
      "metadata": {
        "id": "ORlXD9kGuI0J"
      },
      "execution_count": null,
      "outputs": []
    },
    {
      "cell_type": "code",
      "source": [
        "print(Content)"
      ],
      "metadata": {
        "colab": {
          "base_uri": "https://localhost:8080/"
        },
        "id": "yx8ueqWUQ-wl",
        "outputId": "d02a371a-b7e0-4925-ba7b-481dcfa11123"
      },
      "execution_count": null,
      "outputs": [
        {
          "output_type": "stream",
          "name": "stdout",
          "text": [
            "[['“The world as we have created it is a process of our thinking. It cannot be changed without changing our thinking.”', 'Albert Einstein', 'change,deep-thoughts,thinking,world'], ['“It is our choices, Harry, that show what we truly are, far more than our abilities.”', 'J.K. Rowling', 'abilities,choices'], ['“There are only two ways to live your life. One is as though nothing is a miracle. The other is as though everything is a miracle.”', 'Albert Einstein', 'inspirational,life,live,miracle,miracles'], ['“The person, be it gentleman or lady, who has not pleasure in a good novel, must be intolerably stupid.”', 'Jane Austen', 'aliteracy,books,classic,humor'], [\"“Imperfection is beauty, madness is genius and it's better to be absolutely ridiculous than absolutely boring.”\", 'Marilyn Monroe', 'be-yourself,inspirational'], ['“Try not to become a man of success. Rather become a man of value.”', 'Albert Einstein', 'adulthood,success,value'], ['“It is better to be hated for what you are than to be loved for what you are not.”', 'André Gide', 'life,love'], [\"“I have not failed. I've just found 10,000 ways that won't work.”\", 'Thomas A. Edison', 'edison,failure,inspirational,paraphrased'], [\"“A woman is like a tea bag; you never know how strong it is until it's in hot water.”\", 'Eleanor Roosevelt', 'misattributed-eleanor-roosevelt'], ['“A day without sunshine is like, you know, night.”', 'Steve Martin', 'humor,obvious,simile'], [\"“This life is what you make it. No matter what, you're going to mess up sometimes, it's a universal truth. But the good part is you get to decide how you're going to mess it up. Girls will be your friends - they'll act like it anyway. But just remember, some come, some go. The ones that stay with you through everything - they're your true best friends. Don't let go of them. Also remember, sisters make the best friends in the world. As for lovers, well, they'll come and go too. And baby, I hate to say it, most of them - actually pretty much all of them are going to break your heart, but you can't give up because if you give up, you'll never find your soulmate. You'll never find that half who makes you whole and that goes for everything. Just because you fail once, doesn't mean you're gonna fail at everything. Keep trying, hold on, and always, always, always believe in yourself, because if you don't, then who will, sweetie? So keep your head high, keep your chin up, and most importantly, keep smiling, because life's a beautiful thing and there's so much to smile about.”\", 'Marilyn Monroe', 'friends,heartbreak,inspirational,life,love,sisters'], ['“It takes a great deal of bravery to stand up to our enemies, but just as much to stand up to our friends.”', 'J.K. Rowling', 'courage,friends'], [\"“If you can't explain it to a six year old, you don't understand it yourself.”\", 'Albert Einstein', 'simplicity,understand'], [\"“You may not be her first, her last, or her only. She loved before she may love again. But if she loves you now, what else matters? She's not perfect—you aren't either, and the two of you may never be perfect together but if she can make you laugh, cause you to think twice, and admit to being human and making mistakes, hold onto her and give her the most you can. She may not be thinking about you every second of the day, but she will give you a part of her that she knows you can break—her heart. So don't hurt her, don't change her, don't analyze and don't expect more than she can give. Smile when she makes you happy, let her know when she makes you mad, and miss her when she's not there.”\", 'Bob Marley', 'love'], ['“I like nonsense, it wakes up the brain cells. Fantasy is a necessary ingredient in living.”', 'Dr. Seuss', 'fantasy'], ['“I may not have gone where I intended to go, but I think I have ended up where I needed to be.”', 'Douglas Adams', 'life,navigation'], [\"“The opposite of love is not hate, it's indifference. The opposite of art is not ugliness, it's indifference. The opposite of faith is not heresy, it's indifference. And the opposite of life is not death, it's indifference.”\", 'Elie Wiesel', 'activism,apathy,hate,indifference,inspirational,love,opposite,philosophy'], ['“It is not a lack of love, but a lack of friendship that makes unhappy marriages.”', 'Friedrich Nietzsche', 'friendship,lack-of-friendship,lack-of-love,love,marriage,unhappy-marriage'], ['“Good friends, good books, and a sleepy conscience: this is the ideal life.”', 'Mark Twain', 'books,contentment,friends,friendship,life'], ['“Life is what happens to us while we are making other plans.”', 'Allen Saunders', 'fate,life,misattributed-john-lennon,planning,plans'], ['“I love you without knowing how, or when, or from where. I love you simply, without problems or pride: I love you in this way because I do not know any other way of loving but this, in which there is no I or you, so intimate that your hand upon my chest is my hand, so intimate that when I fall asleep your eyes close.”', 'Pablo Neruda', 'love,poetry'], ['“For every minute you are angry you lose sixty seconds of happiness.”', 'Ralph Waldo Emerson', 'happiness'], ['“If you judge people, you have no time to love them.”', 'Mother Teresa', 'attributed-no-source'], ['“Anyone who thinks sitting in church can make you a Christian must also think that sitting in a garage can make you a car.”', 'Garrison Keillor', 'humor,religion'], ['“Beauty is in the eye of the beholder and it may be necessary from time to time to give a stupid or misinformed beholder a black eye.”', 'Jim Henson', 'humor'], ['“Today you are You, that is truer than true. There is no one alive who is Youer than You.”', 'Dr. Seuss', 'comedy,life,yourself'], ['“If you want your children to be intelligent, read them fairy tales. If you want them to be more intelligent, read them more fairy tales.”', 'Albert Einstein', 'children,fairy-tales'], ['“It is impossible to live without failing at something, unless you live so cautiously that you might as well not have lived at all - in which case, you fail by default.”', 'J.K. Rowling', ''], ['“Logic will get you from A to Z; imagination will get you everywhere.”', 'Albert Einstein', 'imagination'], ['“One good thing about music, when it hits you, you feel no pain.”', 'Bob Marley', 'music'], [\"“The more that you read, the more things you will know. The more that you learn, the more places you'll go.”\", 'Dr. Seuss', 'learning,reading,seuss'], ['“Of course it is happening inside your head, Harry, but why on earth should that mean that it is not real?”', 'J.K. Rowling', 'dumbledore'], ['“The truth is, everyone is going to hurt you. You just got to find the ones worth suffering for.”', 'Bob Marley', 'friendship'], ['“Not all of us can do great things. But we can do small things with great love.”', 'Mother Teresa', 'misattributed-to-mother-teresa,paraphrased'], ['“To the well-organized mind, death is but the next great adventure.”', 'J.K. Rowling', 'death,inspirational'], [\"“All you need is love. But a little chocolate now and then doesn't hurt.”\", 'Charles M. Schulz', 'chocolate,food,humor'], [\"“We read to know we're not alone.”\", 'William Nicholson', 'misattributed-to-c-s-lewis,reading'], ['“Any fool can know. The point is to understand.”', 'Albert Einstein', 'knowledge,learning,understanding,wisdom'], ['“I have always imagined that Paradise will be a kind of library.”', 'Jorge Luis Borges', 'books,library'], ['“It is never too late to be what you might have been.”', 'George Eliot', 'inspirational'], ['“A reader lives a thousand lives before he dies, said Jojen. The man who never reads lives only one.”', 'George R.R. Martin', 'read,readers,reading,reading-books'], ['“You can never get a cup of tea large enough or a book long enough to suit me.”', 'C.S. Lewis', 'books,inspirational,reading,tea'], ['“You believe lies so you eventually learn to trust no one but yourself.”', 'Marilyn Monroe', ''], ['“If you can make a woman laugh, you can make her do anything.”', 'Marilyn Monroe', 'girls,love'], ['“Life is like riding a bicycle. To keep your balance, you must keep moving.”', 'Albert Einstein', 'life,simile'], ['“The real lover is the man who can thrill you by kissing your forehead or smiling into your eyes or just staring into space.”', 'Marilyn Monroe', 'love'], [\"“A wise girl kisses but doesn't love, listens but doesn't believe, and leaves before she is left.”\", 'Marilyn Monroe', 'attributed-no-source'], ['“Only in the darkness can you see the stars.”', 'Martin Luther King Jr.', 'hope,inspirational'], ['“It matters not what someone is born, but what they grow to be.”', 'J.K. Rowling', 'dumbledore'], ['“Love does not begin and end the way we seem to think it does. Love is a battle, love is a war; love is a growing up.”', 'James Baldwin', 'love']]\n"
          ]
        }
      ]
    },
    {
      "cell_type": "code",
      "source": [
        "df = pd.DataFrame(Content,columns = ['Quotes', 'Author','Tags' ]) # creating a data frame by passing 3 parameters and passing \"Content\" empty list"
      ],
      "metadata": {
        "id": "Av6erYHYt_Lb"
      },
      "execution_count": null,
      "outputs": []
    },
    {
      "cell_type": "code",
      "source": [
        "df.head(10)"
      ],
      "metadata": {
        "colab": {
          "base_uri": "https://localhost:8080/",
          "height": 363
        },
        "id": "N-nJzcNwDmXz",
        "outputId": "2906ea8b-3ca4-41c9-913f-f5fc77aa6ef0"
      },
      "execution_count": null,
      "outputs": [
        {
          "output_type": "execute_result",
          "data": {
            "text/plain": [
              "                                              Quotes             Author  \\\n",
              "0  “The world as we have created it is a process ...    Albert Einstein   \n",
              "1  “It is our choices, Harry, that show what we t...       J.K. Rowling   \n",
              "2  “There are only two ways to live your life. On...    Albert Einstein   \n",
              "3  “The person, be it gentleman or lady, who has ...        Jane Austen   \n",
              "4  “Imperfection is beauty, madness is genius and...     Marilyn Monroe   \n",
              "5  “Try not to become a man of success. Rather be...    Albert Einstein   \n",
              "6  “It is better to be hated for what you are tha...         André Gide   \n",
              "7  “I have not failed. I've just found 10,000 way...   Thomas A. Edison   \n",
              "8  “A woman is like a tea bag; you never know how...  Eleanor Roosevelt   \n",
              "9  “A day without sunshine is like, you know, nig...       Steve Martin   \n",
              "\n",
              "                                       Tags  \n",
              "0       change,deep-thoughts,thinking,world  \n",
              "1                         abilities,choices  \n",
              "2  inspirational,life,live,miracle,miracles  \n",
              "3             aliteracy,books,classic,humor  \n",
              "4                 be-yourself,inspirational  \n",
              "5                   adulthood,success,value  \n",
              "6                                 life,love  \n",
              "7  edison,failure,inspirational,paraphrased  \n",
              "8           misattributed-eleanor-roosevelt  \n",
              "9                      humor,obvious,simile  "
            ],
            "text/html": [
              "\n",
              "  <div id=\"df-74539a54-7c57-46cd-9d5f-78146263f7db\">\n",
              "    <div class=\"colab-df-container\">\n",
              "      <div>\n",
              "<style scoped>\n",
              "    .dataframe tbody tr th:only-of-type {\n",
              "        vertical-align: middle;\n",
              "    }\n",
              "\n",
              "    .dataframe tbody tr th {\n",
              "        vertical-align: top;\n",
              "    }\n",
              "\n",
              "    .dataframe thead th {\n",
              "        text-align: right;\n",
              "    }\n",
              "</style>\n",
              "<table border=\"1\" class=\"dataframe\">\n",
              "  <thead>\n",
              "    <tr style=\"text-align: right;\">\n",
              "      <th></th>\n",
              "      <th>Quotes</th>\n",
              "      <th>Author</th>\n",
              "      <th>Tags</th>\n",
              "    </tr>\n",
              "  </thead>\n",
              "  <tbody>\n",
              "    <tr>\n",
              "      <th>0</th>\n",
              "      <td>“The world as we have created it is a process ...</td>\n",
              "      <td>Albert Einstein</td>\n",
              "      <td>change,deep-thoughts,thinking,world</td>\n",
              "    </tr>\n",
              "    <tr>\n",
              "      <th>1</th>\n",
              "      <td>“It is our choices, Harry, that show what we t...</td>\n",
              "      <td>J.K. Rowling</td>\n",
              "      <td>abilities,choices</td>\n",
              "    </tr>\n",
              "    <tr>\n",
              "      <th>2</th>\n",
              "      <td>“There are only two ways to live your life. On...</td>\n",
              "      <td>Albert Einstein</td>\n",
              "      <td>inspirational,life,live,miracle,miracles</td>\n",
              "    </tr>\n",
              "    <tr>\n",
              "      <th>3</th>\n",
              "      <td>“The person, be it gentleman or lady, who has ...</td>\n",
              "      <td>Jane Austen</td>\n",
              "      <td>aliteracy,books,classic,humor</td>\n",
              "    </tr>\n",
              "    <tr>\n",
              "      <th>4</th>\n",
              "      <td>“Imperfection is beauty, madness is genius and...</td>\n",
              "      <td>Marilyn Monroe</td>\n",
              "      <td>be-yourself,inspirational</td>\n",
              "    </tr>\n",
              "    <tr>\n",
              "      <th>5</th>\n",
              "      <td>“Try not to become a man of success. Rather be...</td>\n",
              "      <td>Albert Einstein</td>\n",
              "      <td>adulthood,success,value</td>\n",
              "    </tr>\n",
              "    <tr>\n",
              "      <th>6</th>\n",
              "      <td>“It is better to be hated for what you are tha...</td>\n",
              "      <td>André Gide</td>\n",
              "      <td>life,love</td>\n",
              "    </tr>\n",
              "    <tr>\n",
              "      <th>7</th>\n",
              "      <td>“I have not failed. I've just found 10,000 way...</td>\n",
              "      <td>Thomas A. Edison</td>\n",
              "      <td>edison,failure,inspirational,paraphrased</td>\n",
              "    </tr>\n",
              "    <tr>\n",
              "      <th>8</th>\n",
              "      <td>“A woman is like a tea bag; you never know how...</td>\n",
              "      <td>Eleanor Roosevelt</td>\n",
              "      <td>misattributed-eleanor-roosevelt</td>\n",
              "    </tr>\n",
              "    <tr>\n",
              "      <th>9</th>\n",
              "      <td>“A day without sunshine is like, you know, nig...</td>\n",
              "      <td>Steve Martin</td>\n",
              "      <td>humor,obvious,simile</td>\n",
              "    </tr>\n",
              "  </tbody>\n",
              "</table>\n",
              "</div>\n",
              "      <button class=\"colab-df-convert\" onclick=\"convertToInteractive('df-74539a54-7c57-46cd-9d5f-78146263f7db')\"\n",
              "              title=\"Convert this dataframe to an interactive table.\"\n",
              "              style=\"display:none;\">\n",
              "        \n",
              "  <svg xmlns=\"http://www.w3.org/2000/svg\" height=\"24px\"viewBox=\"0 0 24 24\"\n",
              "       width=\"24px\">\n",
              "    <path d=\"M0 0h24v24H0V0z\" fill=\"none\"/>\n",
              "    <path d=\"M18.56 5.44l.94 2.06.94-2.06 2.06-.94-2.06-.94-.94-2.06-.94 2.06-2.06.94zm-11 1L8.5 8.5l.94-2.06 2.06-.94-2.06-.94L8.5 2.5l-.94 2.06-2.06.94zm10 10l.94 2.06.94-2.06 2.06-.94-2.06-.94-.94-2.06-.94 2.06-2.06.94z\"/><path d=\"M17.41 7.96l-1.37-1.37c-.4-.4-.92-.59-1.43-.59-.52 0-1.04.2-1.43.59L10.3 9.45l-7.72 7.72c-.78.78-.78 2.05 0 2.83L4 21.41c.39.39.9.59 1.41.59.51 0 1.02-.2 1.41-.59l7.78-7.78 2.81-2.81c.8-.78.8-2.07 0-2.86zM5.41 20L4 18.59l7.72-7.72 1.47 1.35L5.41 20z\"/>\n",
              "  </svg>\n",
              "      </button>\n",
              "      \n",
              "  <style>\n",
              "    .colab-df-container {\n",
              "      display:flex;\n",
              "      flex-wrap:wrap;\n",
              "      gap: 12px;\n",
              "    }\n",
              "\n",
              "    .colab-df-convert {\n",
              "      background-color: #E8F0FE;\n",
              "      border: none;\n",
              "      border-radius: 50%;\n",
              "      cursor: pointer;\n",
              "      display: none;\n",
              "      fill: #1967D2;\n",
              "      height: 32px;\n",
              "      padding: 0 0 0 0;\n",
              "      width: 32px;\n",
              "    }\n",
              "\n",
              "    .colab-df-convert:hover {\n",
              "      background-color: #E2EBFA;\n",
              "      box-shadow: 0px 1px 2px rgba(60, 64, 67, 0.3), 0px 1px 3px 1px rgba(60, 64, 67, 0.15);\n",
              "      fill: #174EA6;\n",
              "    }\n",
              "\n",
              "    [theme=dark] .colab-df-convert {\n",
              "      background-color: #3B4455;\n",
              "      fill: #D2E3FC;\n",
              "    }\n",
              "\n",
              "    [theme=dark] .colab-df-convert:hover {\n",
              "      background-color: #434B5C;\n",
              "      box-shadow: 0px 1px 3px 1px rgba(0, 0, 0, 0.15);\n",
              "      filter: drop-shadow(0px 1px 2px rgba(0, 0, 0, 0.3));\n",
              "      fill: #FFFFFF;\n",
              "    }\n",
              "  </style>\n",
              "\n",
              "      <script>\n",
              "        const buttonEl =\n",
              "          document.querySelector('#df-74539a54-7c57-46cd-9d5f-78146263f7db button.colab-df-convert');\n",
              "        buttonEl.style.display =\n",
              "          google.colab.kernel.accessAllowed ? 'block' : 'none';\n",
              "\n",
              "        async function convertToInteractive(key) {\n",
              "          const element = document.querySelector('#df-74539a54-7c57-46cd-9d5f-78146263f7db');\n",
              "          const dataTable =\n",
              "            await google.colab.kernel.invokeFunction('convertToInteractive',\n",
              "                                                     [key], {});\n",
              "          if (!dataTable) return;\n",
              "\n",
              "          const docLinkHtml = 'Like what you see? Visit the ' +\n",
              "            '<a target=\"_blank\" href=https://colab.research.google.com/notebooks/data_table.ipynb>data table notebook</a>'\n",
              "            + ' to learn more about interactive tables.';\n",
              "          element.innerHTML = '';\n",
              "          dataTable['output_type'] = 'display_data';\n",
              "          await google.colab.output.renderOutput(dataTable, element);\n",
              "          const docLink = document.createElement('div');\n",
              "          docLink.innerHTML = docLinkHtml;\n",
              "          element.appendChild(docLink);\n",
              "        }\n",
              "      </script>\n",
              "    </div>\n",
              "  </div>\n",
              "  "
            ]
          },
          "metadata": {},
          "execution_count": 64
        }
      ]
    },
    {
      "cell_type": "code",
      "source": [
        "df.to_csv(\"My first Web Scraped CSVfile\")    #Created CSV file using \"to_csv\""
      ],
      "metadata": {
        "id": "rAA6x6vwvUSs"
      },
      "execution_count": null,
      "outputs": []
    },
    {
      "cell_type": "code",
      "source": [
        "data=pd.read_csv(\"/content/My first Web Scraped CSVfile\")#Reading the CSV file using \"read\" function "
      ],
      "metadata": {
        "id": "95F4GeyZByuw"
      },
      "execution_count": null,
      "outputs": []
    },
    {
      "cell_type": "code",
      "source": [
        "data.tail()  #to display last 5 rows"
      ],
      "metadata": {
        "colab": {
          "base_uri": "https://localhost:8080/",
          "height": 206
        },
        "id": "g7KvmWkXB9Dv",
        "outputId": "9fd11ee4-2948-46d7-c492-3b49b9d8368a"
      },
      "execution_count": null,
      "outputs": [
        {
          "output_type": "execute_result",
          "data": {
            "text/plain": [
              "    Unnamed: 0                                             Quotes  \\\n",
              "45          45  “The real lover is the man who can thrill you ...   \n",
              "46          46  “A wise girl kisses but doesn't love, listens ...   \n",
              "47          47      “Only in the darkness can you see the stars.”   \n",
              "48          48  “It matters not what someone is born, but what...   \n",
              "49          49  “Love does not begin and end the way we seem t...   \n",
              "\n",
              "                    Author                  Tags  \n",
              "45          Marilyn Monroe                  love  \n",
              "46          Marilyn Monroe  attributed-no-source  \n",
              "47  Martin Luther King Jr.    hope,inspirational  \n",
              "48            J.K. Rowling            dumbledore  \n",
              "49           James Baldwin                  love  "
            ],
            "text/html": [
              "\n",
              "  <div id=\"df-b627c792-dea0-4fc7-9c89-c0ee178d0c94\">\n",
              "    <div class=\"colab-df-container\">\n",
              "      <div>\n",
              "<style scoped>\n",
              "    .dataframe tbody tr th:only-of-type {\n",
              "        vertical-align: middle;\n",
              "    }\n",
              "\n",
              "    .dataframe tbody tr th {\n",
              "        vertical-align: top;\n",
              "    }\n",
              "\n",
              "    .dataframe thead th {\n",
              "        text-align: right;\n",
              "    }\n",
              "</style>\n",
              "<table border=\"1\" class=\"dataframe\">\n",
              "  <thead>\n",
              "    <tr style=\"text-align: right;\">\n",
              "      <th></th>\n",
              "      <th>Unnamed: 0</th>\n",
              "      <th>Quotes</th>\n",
              "      <th>Author</th>\n",
              "      <th>Tags</th>\n",
              "    </tr>\n",
              "  </thead>\n",
              "  <tbody>\n",
              "    <tr>\n",
              "      <th>45</th>\n",
              "      <td>45</td>\n",
              "      <td>“The real lover is the man who can thrill you ...</td>\n",
              "      <td>Marilyn Monroe</td>\n",
              "      <td>love</td>\n",
              "    </tr>\n",
              "    <tr>\n",
              "      <th>46</th>\n",
              "      <td>46</td>\n",
              "      <td>“A wise girl kisses but doesn't love, listens ...</td>\n",
              "      <td>Marilyn Monroe</td>\n",
              "      <td>attributed-no-source</td>\n",
              "    </tr>\n",
              "    <tr>\n",
              "      <th>47</th>\n",
              "      <td>47</td>\n",
              "      <td>“Only in the darkness can you see the stars.”</td>\n",
              "      <td>Martin Luther King Jr.</td>\n",
              "      <td>hope,inspirational</td>\n",
              "    </tr>\n",
              "    <tr>\n",
              "      <th>48</th>\n",
              "      <td>48</td>\n",
              "      <td>“It matters not what someone is born, but what...</td>\n",
              "      <td>J.K. Rowling</td>\n",
              "      <td>dumbledore</td>\n",
              "    </tr>\n",
              "    <tr>\n",
              "      <th>49</th>\n",
              "      <td>49</td>\n",
              "      <td>“Love does not begin and end the way we seem t...</td>\n",
              "      <td>James Baldwin</td>\n",
              "      <td>love</td>\n",
              "    </tr>\n",
              "  </tbody>\n",
              "</table>\n",
              "</div>\n",
              "      <button class=\"colab-df-convert\" onclick=\"convertToInteractive('df-b627c792-dea0-4fc7-9c89-c0ee178d0c94')\"\n",
              "              title=\"Convert this dataframe to an interactive table.\"\n",
              "              style=\"display:none;\">\n",
              "        \n",
              "  <svg xmlns=\"http://www.w3.org/2000/svg\" height=\"24px\"viewBox=\"0 0 24 24\"\n",
              "       width=\"24px\">\n",
              "    <path d=\"M0 0h24v24H0V0z\" fill=\"none\"/>\n",
              "    <path d=\"M18.56 5.44l.94 2.06.94-2.06 2.06-.94-2.06-.94-.94-2.06-.94 2.06-2.06.94zm-11 1L8.5 8.5l.94-2.06 2.06-.94-2.06-.94L8.5 2.5l-.94 2.06-2.06.94zm10 10l.94 2.06.94-2.06 2.06-.94-2.06-.94-.94-2.06-.94 2.06-2.06.94z\"/><path d=\"M17.41 7.96l-1.37-1.37c-.4-.4-.92-.59-1.43-.59-.52 0-1.04.2-1.43.59L10.3 9.45l-7.72 7.72c-.78.78-.78 2.05 0 2.83L4 21.41c.39.39.9.59 1.41.59.51 0 1.02-.2 1.41-.59l7.78-7.78 2.81-2.81c.8-.78.8-2.07 0-2.86zM5.41 20L4 18.59l7.72-7.72 1.47 1.35L5.41 20z\"/>\n",
              "  </svg>\n",
              "      </button>\n",
              "      \n",
              "  <style>\n",
              "    .colab-df-container {\n",
              "      display:flex;\n",
              "      flex-wrap:wrap;\n",
              "      gap: 12px;\n",
              "    }\n",
              "\n",
              "    .colab-df-convert {\n",
              "      background-color: #E8F0FE;\n",
              "      border: none;\n",
              "      border-radius: 50%;\n",
              "      cursor: pointer;\n",
              "      display: none;\n",
              "      fill: #1967D2;\n",
              "      height: 32px;\n",
              "      padding: 0 0 0 0;\n",
              "      width: 32px;\n",
              "    }\n",
              "\n",
              "    .colab-df-convert:hover {\n",
              "      background-color: #E2EBFA;\n",
              "      box-shadow: 0px 1px 2px rgba(60, 64, 67, 0.3), 0px 1px 3px 1px rgba(60, 64, 67, 0.15);\n",
              "      fill: #174EA6;\n",
              "    }\n",
              "\n",
              "    [theme=dark] .colab-df-convert {\n",
              "      background-color: #3B4455;\n",
              "      fill: #D2E3FC;\n",
              "    }\n",
              "\n",
              "    [theme=dark] .colab-df-convert:hover {\n",
              "      background-color: #434B5C;\n",
              "      box-shadow: 0px 1px 3px 1px rgba(0, 0, 0, 0.15);\n",
              "      filter: drop-shadow(0px 1px 2px rgba(0, 0, 0, 0.3));\n",
              "      fill: #FFFFFF;\n",
              "    }\n",
              "  </style>\n",
              "\n",
              "      <script>\n",
              "        const buttonEl =\n",
              "          document.querySelector('#df-b627c792-dea0-4fc7-9c89-c0ee178d0c94 button.colab-df-convert');\n",
              "        buttonEl.style.display =\n",
              "          google.colab.kernel.accessAllowed ? 'block' : 'none';\n",
              "\n",
              "        async function convertToInteractive(key) {\n",
              "          const element = document.querySelector('#df-b627c792-dea0-4fc7-9c89-c0ee178d0c94');\n",
              "          const dataTable =\n",
              "            await google.colab.kernel.invokeFunction('convertToInteractive',\n",
              "                                                     [key], {});\n",
              "          if (!dataTable) return;\n",
              "\n",
              "          const docLinkHtml = 'Like what you see? Visit the ' +\n",
              "            '<a target=\"_blank\" href=https://colab.research.google.com/notebooks/data_table.ipynb>data table notebook</a>'\n",
              "            + ' to learn more about interactive tables.';\n",
              "          element.innerHTML = '';\n",
              "          dataTable['output_type'] = 'display_data';\n",
              "          await google.colab.output.renderOutput(dataTable, element);\n",
              "          const docLink = document.createElement('div');\n",
              "          docLink.innerHTML = docLinkHtml;\n",
              "          element.appendChild(docLink);\n",
              "        }\n",
              "      </script>\n",
              "    </div>\n",
              "  </div>\n",
              "  "
            ]
          },
          "metadata": {},
          "execution_count": 74
        }
      ]
    }
  ]
}